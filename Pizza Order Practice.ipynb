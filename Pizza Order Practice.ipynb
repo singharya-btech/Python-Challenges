{
 "cells": [
  {
   "cell_type": "code",
   "execution_count": 2,
   "id": "97749545-d066-4c89-8ff1-e24ca75b5419",
   "metadata": {},
   "outputs": [
    {
     "name": "stdout",
     "output_type": "stream",
     "text": [
      "Welcome to Domino's Online pizza Deliveries!\n"
     ]
    }
   ],
   "source": [
    "print(\"Welcome to Domino\\'s Online pizza Deliveries!\")"
   ]
  },
  {
   "cell_type": "code",
   "execution_count": 6,
   "id": "e25d563a-6878-4cbb-b209-6a38bacad98a",
   "metadata": {},
   "outputs": [
    {
     "name": "stdin",
     "output_type": "stream",
     "text": [
      "What is the size of your Pizza, do you want? S, M or L :  l\n",
      " Do you want pepperoni on your pizza? y or n :  y\n",
      "Do you want extra cheese? y or n :  y\n"
     ]
    },
    {
     "name": "stdout",
     "output_type": "stream",
     "text": [
      "Your final Pizza bill is : ₹290.\n"
     ]
    }
   ],
   "source": [
    "size = input(\"What is the size of your Pizza, do you want? S, M or L : \").upper()\n",
    "pepperoni = input(\" Do you want pepperoni on your pizza? y or n : \").lower()\n",
    "extra_cheese = input(\"Do you want extra cheese? y or n : \")\n",
    "bill = 0\n",
    "if size == \"S\":\n",
    "    bill += 150\n",
    "elif size == \"M\":\n",
    "    bill += 200\n",
    "elif size == \"L\":\n",
    "    bill += 250\n",
    "else:\n",
    "    print(\"You Enter the wrong Inputs.\")\n",
    "if pepperoni == \"y\":\n",
    "    if size == \"S\":\n",
    "        bill += 20\n",
    "    else:\n",
    "        bill += 30\n",
    "if extra_cheese == \"y\":\n",
    "    bill += 10\n",
    "print(f\"Your final Pizza bill is : ₹{bill}.\")\n",
    "    "
   ]
  },
  {
   "cell_type": "code",
   "execution_count": null,
   "id": "27ba9ebb-437d-4f79-a740-531b0fe3a840",
   "metadata": {},
   "outputs": [],
   "source": []
  }
 ],
 "metadata": {
  "kernelspec": {
   "display_name": "Python [conda env:base] *",
   "language": "python",
   "name": "conda-base-py"
  },
  "language_info": {
   "codemirror_mode": {
    "name": "ipython",
    "version": 3
   },
   "file_extension": ".py",
   "mimetype": "text/x-python",
   "name": "python",
   "nbconvert_exporter": "python",
   "pygments_lexer": "ipython3",
   "version": "3.12.7"
  }
 },
 "nbformat": 4,
 "nbformat_minor": 5
}
